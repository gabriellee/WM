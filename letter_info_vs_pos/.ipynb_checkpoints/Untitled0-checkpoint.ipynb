{
 "metadata": {
  "name": "",
  "signature": "sha256:267518ef2a9a530932b73cf769835cd6b39a4c1ff7821d5347264ab6f9d5a850"
 },
 "nbformat": 3,
 "nbformat_minor": 0,
 "worksheets": []
}