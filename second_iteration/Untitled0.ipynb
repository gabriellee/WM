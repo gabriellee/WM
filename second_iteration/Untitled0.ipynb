{
 "metadata": {
  "name": "",
  "signature": "sha256:7b6a1c97ba149e2a1b449d900818f806eac8610c9cd214c968b9c5825d0d69f0"
 },
 "nbformat": 3,
 "nbformat_minor": 0,
 "worksheets": [
  {
   "cells": [
    {
     "cell_type": "markdown",
     "metadata": {},
     "source": [
      "#Entropy in Various Letter Positions\n",
      "##Two Positions"
     ]
    },
    {
     "cell_type": "code",
     "collapsed": false,
     "input": [
      "run opt_WM_strategy\n"
     ],
     "language": "python",
     "metadata": {},
     "outputs": [
      {
       "output_type": "stream",
       "stream": "stdout",
       "text": [
        "[(0, 1), (1, 2), (1, 3), (2, 3), (0, 3), (0, 2)]\n",
        "[0, 1]\n",
        "[1, 2]\n",
        "[1, 3]"
       ]
      },
      {
       "output_type": "stream",
       "stream": "stdout",
       "text": [
        "\n",
        "[2, 3]\n",
        "[0, 3]\n",
        "[0, 2]"
       ]
      },
      {
       "output_type": "stream",
       "stream": "stdout",
       "text": [
        "\n",
        "(0, 1)"
       ]
      },
      {
       "output_type": "stream",
       "stream": "stdout",
       "text": [
        " -5.11185709046\n",
        "(1, 2)"
       ]
      },
      {
       "output_type": "stream",
       "stream": "stdout",
       "text": [
        " -4.93040778422\n",
        "(1, 3)"
       ]
      },
      {
       "output_type": "stream",
       "stream": "stdout",
       "text": [
        " -4.90224946153\n",
        "(2, 3)"
       ]
      },
      {
       "output_type": "stream",
       "stream": "stdout",
       "text": [
        " -4.77521279743\n",
        "(0, 3)"
       ]
      },
      {
       "output_type": "stream",
       "stream": "stdout",
       "text": [
        " -4.1316122536\n",
        "(0, 2)"
       ]
      },
      {
       "output_type": "stream",
       "stream": "stdout",
       "text": [
        " -3.98396250789\n"
       ]
      }
     ],
     "prompt_number": 15
    },
    {
     "cell_type": "code",
     "collapsed": false,
     "input": [
      "import pickle\n",
      "import csv\n",
      "import matplotlib.pyplot as plt"
     ],
     "language": "python",
     "metadata": {},
     "outputs": [],
     "prompt_number": 10
    },
    {
     "cell_type": "code",
     "collapsed": false,
     "input": [
      "%matplotlib inline\n",
      "\n",
      "data = list(csv.reader(open(\"4ltr_cap2_10000wds.csv\",\"r\")))\n",
      "\n",
      "ymean = data[2]\n",
      "values = data[1]\n",
      "x = data[0]\n",
      "\n",
      "variance = sum([(values[0][i] - ymean[0])**2 for i in range(len(values[0]))])\n",
      "\n",
      "#fig, ax = plt.subplots()\n",
      "#rects1 = ax.bar(ind, y, width, color='r', yerr=menStd)\n",
      "\n",
      "# plt.figure(1)\n",
      "# p1, = plt.plot(x,y)\n",
      "# plt.xlabel(\"policy\", fontsize = 14)\n",
      "# plt.ylabel(\"information content\", fontsize = 14)\n",
      "# plt.title(\"Average Information Content for given Letter Positions\", fontsize = 16)\n",
      "\n",
      "# plt.figure(2)\n",
      "# p2, = plt.plot(x,y_end)\n",
      "# plt.xlabel(\"distance from end\", fontsize = 14)\n",
      "# plt.ylabel(\"information content\", fontsize = 14)\n",
      "# plt.title(\"Average Information Content for given sentence positons\", fontsize = 16)\n",
      "# plt.show()"
     ],
     "language": "python",
     "metadata": {},
     "outputs": [
      {
       "ename": "Error",
       "evalue": "field larger than field limit (131072)",
       "output_type": "pyerr",
       "traceback": [
        "\u001b[1;31m---------------------------------------------------------------------------\u001b[0m\n\u001b[1;31mError\u001b[0m                                     Traceback (most recent call last)",
        "\u001b[1;32m<ipython-input-13-d30032eb9440>\u001b[0m in \u001b[0;36m<module>\u001b[1;34m()\u001b[0m\n\u001b[0;32m      1\u001b[0m \u001b[0mget_ipython\u001b[0m\u001b[1;33m(\u001b[0m\u001b[1;33m)\u001b[0m\u001b[1;33m.\u001b[0m\u001b[0mmagic\u001b[0m\u001b[1;33m(\u001b[0m\u001b[1;34mu'matplotlib inline'\u001b[0m\u001b[1;33m)\u001b[0m\u001b[1;33m\u001b[0m\u001b[0m\n\u001b[0;32m      2\u001b[0m \u001b[1;33m\u001b[0m\u001b[0m\n\u001b[1;32m----> 3\u001b[1;33m \u001b[0mdata\u001b[0m \u001b[1;33m=\u001b[0m \u001b[0mlist\u001b[0m\u001b[1;33m(\u001b[0m\u001b[0mcsv\u001b[0m\u001b[1;33m.\u001b[0m\u001b[0mreader\u001b[0m\u001b[1;33m(\u001b[0m\u001b[0mopen\u001b[0m\u001b[1;33m(\u001b[0m\u001b[1;34m\"4ltr_cap2_10000wds.csv\"\u001b[0m\u001b[1;33m,\u001b[0m\u001b[1;34m\"r\"\u001b[0m\u001b[1;33m)\u001b[0m\u001b[1;33m)\u001b[0m\u001b[1;33m)\u001b[0m\u001b[1;33m\u001b[0m\u001b[0m\n\u001b[0m\u001b[0;32m      4\u001b[0m \u001b[1;33m\u001b[0m\u001b[0m\n\u001b[0;32m      5\u001b[0m \u001b[0mymean\u001b[0m \u001b[1;33m=\u001b[0m \u001b[0mdata\u001b[0m\u001b[1;33m[\u001b[0m\u001b[1;36m2\u001b[0m\u001b[1;33m]\u001b[0m\u001b[1;33m\u001b[0m\u001b[0m\n",
        "\u001b[1;31mError\u001b[0m: field larger than field limit (131072)"
       ]
      }
     ],
     "prompt_number": 13
    },
    {
     "cell_type": "code",
     "collapsed": false,
     "input": [
      "import numpy\n",
      "%matplotlib inline\n",
      "info_values = data[3]\n",
      "positions = data[4]\n",
      "\n",
      "#shorten for debugging\n",
      "#info_values = [info_values[j][:30] for j in range(len(info_values))]\n",
      "\n",
      "#turn the string '[1, 2, 2.4]' into a list [1, 2, 2.4]\n",
      "info_values = [re.sub('[\\[\\]]','', info_values[i]) for i in range(len(info_values))]\n",
      "temp = []\n",
      "info_values = [(re.split('\\D\\s',info_values[k])) for k in range(len(info_values))]\n",
      "info_values = [[float(info_values[i][j]) for j in range(len(info_values[i]))] for i in range(len(info_values))]\n",
      "\n",
      "#make plot\n",
      "plt.boxplot([numpy.matrix(info_values[0]), numpy.matrix(info_values[1]), numpy.matrix(info_values[2])])\n",
      "plt.xlabel('Position in Sentence',fontsize = 14)\n",
      "plt.ylabel('Information',fontsize = 14)\n",
      "plt.title('Range of Information Values at each Position', fontsize=16)"
     ],
     "language": "python",
     "metadata": {},
     "outputs": [
      {
       "ename": "NameError",
       "evalue": "name 'data' is not defined",
       "output_type": "pyerr",
       "traceback": [
        "\u001b[1;31m---------------------------------------------------------------------------\u001b[0m\n\u001b[1;31mNameError\u001b[0m                                 Traceback (most recent call last)",
        "\u001b[1;32m<ipython-input-6-1d61d98e1cff>\u001b[0m in \u001b[0;36m<module>\u001b[1;34m()\u001b[0m\n\u001b[0;32m      1\u001b[0m \u001b[1;32mimport\u001b[0m \u001b[0mnumpy\u001b[0m\u001b[1;33m\u001b[0m\u001b[0m\n\u001b[0;32m      2\u001b[0m \u001b[0mget_ipython\u001b[0m\u001b[1;33m(\u001b[0m\u001b[1;33m)\u001b[0m\u001b[1;33m.\u001b[0m\u001b[0mmagic\u001b[0m\u001b[1;33m(\u001b[0m\u001b[1;34mu'matplotlib inline'\u001b[0m\u001b[1;33m)\u001b[0m\u001b[1;33m\u001b[0m\u001b[0m\n\u001b[1;32m----> 3\u001b[1;33m \u001b[0minfo_values\u001b[0m \u001b[1;33m=\u001b[0m \u001b[0mdata\u001b[0m\u001b[1;33m[\u001b[0m\u001b[1;36m3\u001b[0m\u001b[1;33m]\u001b[0m\u001b[1;33m\u001b[0m\u001b[0m\n\u001b[0m\u001b[0;32m      4\u001b[0m \u001b[0mpositions\u001b[0m \u001b[1;33m=\u001b[0m \u001b[0mdata\u001b[0m\u001b[1;33m[\u001b[0m\u001b[1;36m4\u001b[0m\u001b[1;33m]\u001b[0m\u001b[1;33m\u001b[0m\u001b[0m\n\u001b[0;32m      5\u001b[0m \u001b[1;33m\u001b[0m\u001b[0m\n",
        "\u001b[1;31mNameError\u001b[0m: name 'data' is not defined"
       ]
      }
     ],
     "prompt_number": 6
    },
    {
     "cell_type": "code",
     "collapsed": false,
     "input": [],
     "language": "python",
     "metadata": {},
     "outputs": []
    }
   ],
   "metadata": {}
  }
 ]
}