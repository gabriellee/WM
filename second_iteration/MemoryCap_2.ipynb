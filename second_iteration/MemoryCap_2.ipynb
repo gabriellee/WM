{
 "metadata": {
  "name": "",
  "signature": "sha256:755d21dfdffe9b75e79a76e7d45645b56ab71a7bcf4d4c99b83b9ba9df61526d"
 },
 "nbformat": 3,
 "nbformat_minor": 0,
 "worksheets": [
  {
   "cells": [
    {
     "cell_type": "markdown",
     "metadata": {},
     "source": [
      "#Remembering 2 Letters"
     ]
    },
    {
     "cell_type": "markdown",
     "metadata": {},
     "source": [
      "##3 Letter Sentences"
     ]
    },
    {
     "cell_type": "code",
     "collapsed": false,
     "input": [
      "run opt_WM_strategy"
     ],
     "language": "python",
     "metadata": {},
     "outputs": [
      {
       "output_type": "stream",
       "stream": "stdout",
       "text": [
        "20000 60000\n",
        "[(0, 1), (1, 2), (0, 2)]\n",
        "[0, 1]\n",
        "[1, 2]"
       ]
      },
      {
       "output_type": "stream",
       "stream": "stdout",
       "text": [
        "\n",
        "[0, 2]\n",
        "(0, 1)"
       ]
      },
      {
       "output_type": "stream",
       "stream": "stdout",
       "text": [
        " 4.71944293535\n",
        "(1, 2)"
       ]
      },
      {
       "output_type": "stream",
       "stream": "stdout",
       "text": [
        " 4.833657421\n",
        "(0, 2)"
       ]
      },
      {
       "output_type": "stream",
       "stream": "stdout",
       "text": [
        " 4.37884228707\n"
       ]
      }
     ],
     "prompt_number": 2
    },
    {
     "cell_type": "code",
     "collapsed": false,
     "input": [
      "import matplotlib.pyplot as plt\n",
      "import math"
     ],
     "language": "python",
     "metadata": {},
     "outputs": [],
     "prompt_number": 4
    },
    {
     "cell_type": "code",
     "collapsed": false,
     "input": [
      "def calcErrBars(values, ymean):\n",
      "    #calculate standard, deviation, standard error, and variance\n",
      "    var_sum = 0\n",
      "    std_dev = []\n",
      "    std_err = []\n",
      "    x = []\n",
      "    for ind in range(len(values)):\n",
      "        for i in range(len(values[ind])):\n",
      "            var_sum += (values[ind][i] - ymean[ind])**2\n",
      "        variance = var_sum/(len(values[ind]) - 1)\n",
      "        std_dev.append(math.sqrt(variance))\n",
      "        std_err.append(std_dev[ind]/math.sqrt(len(values[ind])))\n",
      "        x.append(ind)\n",
      "    return std_err, x"
     ],
     "language": "python",
     "metadata": {},
     "outputs": [],
     "prompt_number": 37
    },
    {
     "cell_type": "code",
     "collapsed": false,
     "input": [
      "def plotRectangles(x, x_labels, ymean, std_err, title ='Information Content of Words, by Letter Positions Remembered'):\n",
      "    %matplotlib inline\n",
      "    #create bar graph\n",
      "    width = .4\n",
      "    tick_sep = [elm + width for elm in x]\n",
      "    fig, ax = plt.subplots()\n",
      "    rects1 = ax.bar(tuple(tick_sep), tuple(ymean), width, color='r', yerr=std_err)\n",
      "\n",
      "    #plus beauty\n",
      "    ax.set_ylabel('Information Content')\n",
      "    ax.set_title(title, fontsize = 14)\n",
      "    ax.set_xticks(tick_sep)\n",
      "    ax.set_xticklabels([str(el) for el in x_labels])\n",
      "    ax.set_xlabel('Letter Indices Remembered')\n",
      "\n",
      "    def autolabel(rects,ymean):\n",
      "        # attach some text labels\n",
      "        for idx in range(len(rects)):\n",
      "            height = rects[idx].get_height()\n",
      "            ax.text(rects[idx].get_x()+rects[idx].get_width()/2., 1.05*ymean[idx], '%10.3f'%ymean[idx],ha='center', va='bottom')\n",
      "    autolabel(rects1,ymean)"
     ],
     "language": "python",
     "metadata": {},
     "outputs": [],
     "prompt_number": 38
    },
    {
     "cell_type": "code",
     "collapsed": false,
     "input": [
      "x_labels = []\n",
      "values = []\n",
      "ymean = []\n",
      "with open('4ltr_cap2_20000wds.pickle') as f:\n",
      "    x_labels, values, ymean = pickle.load(f)\n",
      "calcErrBars(values,ymean)\n",
      "plotRectangles(x_labels,ymean,std_err)"
     ],
     "language": "python",
     "metadata": {},
     "outputs": [
      {
       "metadata": {},
       "output_type": "display_data",
       "png": "[encoded data removed]",
       "text": [
        "<matplotlib.figure.Figure at 0xbbd5e6c>"
       ]
      }
     ],
     "prompt_number": 17
    },
    {
     "cell_type": "markdown",
     "metadata": {},
     "source": [
      "##4 Letter Sentences"
     ]
    },
    {
     "cell_type": "code",
     "collapsed": false,
     "input": [
      "run opt_WM_strategy"
     ],
     "language": "python",
     "metadata": {},
     "outputs": [
      {
       "output_type": "stream",
       "stream": "stdout",
       "text": [
        "20000 80000\n",
        "[(0, 1), (1, 2), (1, 3), (2, 3), (0, 3), (0, 2)]\n",
        "[0, 1]\n",
        "[1, 2]"
       ]
      },
      {
       "output_type": "stream",
       "stream": "stdout",
       "text": [
        "\n",
        "[1, 3]\n",
        "[2, 3]"
       ]
      },
      {
       "output_type": "stream",
       "stream": "stdout",
       "text": [
        "\n",
        "[0, 3]"
       ]
      },
      {
       "output_type": "stream",
       "stream": "stdout",
       "text": [
        "\n",
        "[0, 2]\n",
        "(0, 1)"
       ]
      },
      {
       "output_type": "stream",
       "stream": "stdout",
       "text": [
        " 5.67714874957\n",
        "(1, 2)"
       ]
      },
      {
       "output_type": "stream",
       "stream": "stdout",
       "text": [
        " 5.409713236\n",
        "(1, 3)"
       ]
      },
      {
       "output_type": "stream",
       "stream": "stdout",
       "text": [
        " 5.44054715773\n",
        "(2, 3)"
       ]
      },
      {
       "output_type": "stream",
       "stream": "stdout",
       "text": [
        " 5.3409769519\n",
        "(0, 3)"
       ]
      },
      {
       "output_type": "stream",
       "stream": "stdout",
       "text": [
        " 4.68690258131\n",
        "(0, 2)"
       ]
      },
      {
       "output_type": "stream",
       "stream": "stdout",
       "text": [
        " 4.5657084194\n"
       ]
      }
     ],
     "prompt_number": 6
    },
    {
     "cell_type": "code",
     "collapsed": false,
     "input": [
      "x_labels = []\n",
      "values = []\n",
      "ymean = []\n",
      "with open('ltr4_cap2_20000wds.pickle') as f:\n",
      "    x_labels, values, ymean = pickle.load(f)\n",
      "calcErrBars(values,ymean)\n",
      "plotRectangles(x_labels,ymean,std_err,'4 Letter Words')"
     ],
     "language": "python",
     "metadata": {},
     "outputs": [
      {
       "metadata": {},
       "output_type": "display_data",
       "png": "[encoded data removed]",
       "text": [
        "<matplotlib.figure.Figure at 0xb76e30c>"
       ]
      }
     ],
     "prompt_number": 21
    },
    {
     "cell_type": "markdown",
     "metadata": {},
     "source": [
      "##5 Letter Words"
     ]
    },
    {
     "cell_type": "code",
     "collapsed": false,
     "input": [
      "run opt_WM_strategy"
     ],
     "language": "python",
     "metadata": {},
     "outputs": [
      {
       "output_type": "stream",
       "stream": "stdout",
       "text": [
        "20000 100000\n",
        "[(0, 1), (1, 2), (1, 3), (1, 4), (2, 4), (2, 3), (0, 4), (0, 3), (3, 4), (0, 2)]\n",
        "[0, 1]\n",
        "[1, 2]"
       ]
      },
      {
       "output_type": "stream",
       "stream": "stdout",
       "text": [
        "\n",
        "[1, 3]\n",
        "[1, 4]"
       ]
      },
      {
       "output_type": "stream",
       "stream": "stdout",
       "text": [
        "\n",
        "[2, 4]"
       ]
      },
      {
       "output_type": "stream",
       "stream": "stdout",
       "text": [
        "\n",
        "[2, 3]\n",
        "[0, 4]"
       ]
      },
      {
       "output_type": "stream",
       "stream": "stdout",
       "text": [
        "\n",
        "[0, 3]"
       ]
      },
      {
       "output_type": "stream",
       "stream": "stdout",
       "text": [
        "\n",
        "[3, 4]\n",
        "[0, 2]"
       ]
      },
      {
       "output_type": "stream",
       "stream": "stdout",
       "text": [
        "\n",
        "(0, 1)"
       ]
      },
      {
       "output_type": "stream",
       "stream": "stdout",
       "text": [
        " 6.18967136087\n",
        "(1, 2)"
       ]
      },
      {
       "output_type": "stream",
       "stream": "stdout",
       "text": [
        " 6.05311820733\n",
        "(1, 3)"
       ]
      },
      {
       "output_type": "stream",
       "stream": "stdout",
       "text": [
        " 5.57640637059\n",
        "(1, 4)"
       ]
      },
      {
       "output_type": "stream",
       "stream": "stdout",
       "text": [
        " 5.91415710697\n",
        "(2, 4)"
       ]
      },
      {
       "output_type": "stream",
       "stream": "stdout",
       "text": [
        " 5.67790931316\n",
        "(2, 3)"
       ]
      },
      {
       "output_type": "stream",
       "stream": "stdout",
       "text": [
        " 5.7039643928\n",
        "(0, 4)"
       ]
      },
      {
       "output_type": "stream",
       "stream": "stdout",
       "text": [
        " 5.32935154685\n",
        "(0, 3)"
       ]
      },
      {
       "output_type": "stream",
       "stream": "stdout",
       "text": [
        " 4.98040997366\n",
        "(3, 4)"
       ]
      },
      {
       "output_type": "stream",
       "stream": "stdout",
       "text": [
        " 6.33191553777\n",
        "(0, 2)"
       ]
      },
      {
       "output_type": "stream",
       "stream": "stdout",
       "text": [
        " 5.08654797565\n"
       ]
      }
     ],
     "prompt_number": 22
    },
    {
     "cell_type": "code",
     "collapsed": false,
     "input": [
      "x_labels = []\n",
      "values = []\n",
      "ymean = []\n",
      "with open('ltr5_cap2_20000wds.pickle') as f:\n",
      "    x_labels, values, ymean = pickle.load(f)\n",
      "std_err,x = calcErrBars(values,ymean)\n",
      "plotRectangles(x,x_labels,ymean,std_err,'5 Letter Words')"
     ],
     "language": "python",
     "metadata": {},
     "outputs": [
      {
       "metadata": {},
       "output_type": "display_data",
       "png": "[encoded data removed]",
       "text": [
        "<matplotlib.figure.Figure at 0xbc3d6ec>"
       ]
      }
     ],
     "prompt_number": 39
    },
    {
     "cell_type": "code",
     "collapsed": false,
     "input": [],
     "language": "python",
     "metadata": {},
     "outputs": []
    }
   ],
   "metadata": {}
  }
 ]
}