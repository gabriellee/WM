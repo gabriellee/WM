{
 "metadata": {
  "name": "",
  "signature": "sha256:eda6ce0bea1574581682008359d1d138595ab99e08c3b880de0875f43bd6f366"
 },
 "nbformat": 3,
 "nbformat_minor": 0,
 "worksheets": [
  {
   "cells": [
    {
     "cell_type": "markdown",
     "metadata": {},
     "source": [
      "#Entropy in Various Letter Positions\n",
      "##Two Positions"
     ]
    },
    {
     "cell_type": "code",
     "collapsed": false,
     "input": [
      "run opt_WM_strategy\n"
     ],
     "language": "python",
     "metadata": {},
     "outputs": [
      {
       "output_type": "stream",
       "stream": "stdout",
       "text": [
        "[(0, 1), (1, 2), (1, 3), (2, 3), (0, 3), (0, 2)]\n",
        "[0, 1]\n",
        "[1, 2]\n",
        "[1, 3]"
       ]
      },
      {
       "output_type": "stream",
       "stream": "stdout",
       "text": [
        "\n",
        "[2, 3]\n",
        "[0, 3]\n",
        "[0, 2]"
       ]
      },
      {
       "output_type": "stream",
       "stream": "stdout",
       "text": [
        "\n",
        "(0, 1)"
       ]
      },
      {
       "output_type": "stream",
       "stream": "stdout",
       "text": [
        " 5.04672504605\n",
        "(1, 2)"
       ]
      },
      {
       "output_type": "stream",
       "stream": "stdout",
       "text": [
        " 4.8565961997\n",
        "(1, 3)"
       ]
      },
      {
       "output_type": "stream",
       "stream": "stdout",
       "text": [
        " 4.87522705035\n",
        "(2, 3)"
       ]
      },
      {
       "output_type": "stream",
       "stream": "stdout",
       "text": [
        " 4.7880189774\n",
        "(0, 3)"
       ]
      },
      {
       "output_type": "stream",
       "stream": "stdout",
       "text": [
        " 4.09230881031\n",
        "(0, 2)"
       ]
      },
      {
       "output_type": "stream",
       "stream": "stdout",
       "text": [
        " 3.92486704497\n"
       ]
      }
     ],
     "prompt_number": 77
    },
    {
     "cell_type": "code",
     "collapsed": false,
     "input": [
      "import pickle\n",
      "import csv\n",
      "import matplotlib.pyplot as plt\n",
      "import numpy as np"
     ],
     "language": "python",
     "metadata": {},
     "outputs": [],
     "prompt_number": 46
    },
    {
     "cell_type": "code",
     "collapsed": false,
     "input": [
      "%matplotlib inline\n",
      "\n",
      "x_labels = []\n",
      "values = []\n",
      "ymean = []\n",
      "\n",
      "with open('4ltr_cap2_20000wds.pickle') as f:\n",
      "    x_labels, values, ymean = pickle.load(f)\n",
      "\n",
      "#calculate standard, deviation, standard error, and variance\n",
      "var_sum = 0\n",
      "std_dev = []\n",
      "std_err = []\n",
      "x = []\n",
      "for ind in range(len(values)):\n",
      "    for i in range(len(values[ind])):\n",
      "        var_sum += (values[ind][i] - ymean[ind])**2\n",
      "    variance = var_sum/(len(values[ind]) - 1)\n",
      "    std_dev.append(math.sqrt(variance))\n",
      "    std_err.append(std_dev[ind]/math.sqrt(len(values[ind])))\n",
      "    x.append(ind)\n",
      "    \n",
      "#x = np.arrange(len(values))\n",
      "\n",
      "#create bar graph\n",
      "width = .4\n",
      "tick_sep = [elm + width for elm in x]\n",
      "fig, ax = plt.subplots()\n",
      "rects1 = ax.bar(tuple(tick_sep), tuple(ymean), width, color='r', yerr=std_err)\n",
      "\n",
      "#plus beauty\n",
      "ax.set_ylabel('Information Content')\n",
      "ax.set_title('Information Content of Words, by Letter Positions Remembered', fontsize = 14)\n",
      "ax.set_xticks(tick_sep)\n",
      "ax.set_xticklabels([str(el) for el in x_labels])\n",
      "ax.set_xlabel('Letter Indices Remembered')\n",
      "\n",
      "#ax.legend( (rects1[0], rects2[0]), ('Men', 'Women') )\n",
      "\n",
      "def autolabel(rects,ymean):\n",
      "    # attach some text labels\n",
      "    for idx in range(len(rects)):\n",
      "        height = rects[idx].get_height()\n",
      "        ax.text(rects[idx].get_x()+rects[idx].get_width()/2., 1.05*ymean[idx], '%10.3f'%ymean[idx],\n",
      "                ha='center', va='bottom')\n",
      "autolabel(rects1,ymean)\n",
      "\n"
     ],
     "language": "python",
     "metadata": {},
     "outputs": [
      {
       "metadata": {},
       "output_type": "display_data",
       "png": "[encoded data removed]",
       "text": [
        "<matplotlib.figure.Figure at 0x107e2a8c>"
       ]
      }
     ],
     "prompt_number": 88
    },
    {
     "cell_type": "code",
     "collapsed": false,
     "input": [
      "run opt_WM_strategy"
     ],
     "language": "python",
     "metadata": {},
     "outputs": [
      {
       "output_type": "stream",
       "stream": "stdout",
       "text": [
        "[(0, 1), (1, 2), (2, 5), (1, 3), (4, 5), (1, 4), (2, 4), (1, 5), (0, 5), (0, 4), (2, 3), (0, 3), (3, 4), (0, 2), (3, 5)]\n",
        "[0, 1]\n",
        "[1, 2]"
       ]
      },
      {
       "output_type": "stream",
       "stream": "stdout",
       "text": [
        "\n",
        "[2, 5]\n",
        "[1, 3]"
       ]
      },
      {
       "output_type": "stream",
       "stream": "stdout",
       "text": [
        "\n",
        "[4, 5]\n",
        "[1, 4]"
       ]
      },
      {
       "output_type": "stream",
       "stream": "stdout",
       "text": [
        "\n",
        "[2, 4]\n",
        "[1, 5]"
       ]
      },
      {
       "output_type": "stream",
       "stream": "stdout",
       "text": [
        "\n",
        "[0, 5]\n",
        "[0, 4]"
       ]
      },
      {
       "output_type": "stream",
       "stream": "stdout",
       "text": [
        "\n",
        "[2, 3]"
       ]
      },
      {
       "output_type": "stream",
       "stream": "stdout",
       "text": [
        "\n",
        "[0, 3]\n",
        "[3, 4]"
       ]
      },
      {
       "output_type": "stream",
       "stream": "stdout",
       "text": [
        "\n",
        "[0, 2]"
       ]
      },
      {
       "output_type": "stream",
       "stream": "stdout",
       "text": [
        "\n",
        "[3, 5]\n",
        "(0, 1)"
       ]
      },
      {
       "output_type": "stream",
       "stream": "stdout",
       "text": [
        " 6.67837855523\n",
        "(1, 2)"
       ]
      },
      {
       "output_type": "stream",
       "stream": "stdout",
       "text": [
        " 6.22831564063\n",
        "(2, 5)"
       ]
      },
      {
       "output_type": "stream",
       "stream": "stdout",
       "text": [
        " 5.95414420488\n",
        "(1, 3)"
       ]
      },
      {
       "output_type": "stream",
       "stream": "stdout",
       "text": [
        " 5.87995392591\n",
        "(4, 5)"
       ]
      },
      {
       "output_type": "stream",
       "stream": "stdout",
       "text": [
        " 7.42523980814\n",
        "(1, 4)"
       ]
      },
      {
       "output_type": "stream",
       "stream": "stdout",
       "text": [
        " 6.23747988076\n",
        "(2, 4)"
       ]
      },
      {
       "output_type": "stream",
       "stream": "stdout",
       "text": [
        " 5.95379871227\n",
        "(1, 5)"
       ]
      },
      {
       "output_type": "stream",
       "stream": "stdout",
       "text": [
        " 6.38977490422\n",
        "(0, 5)"
       ]
      },
      {
       "output_type": "stream",
       "stream": "stdout",
       "text": [
        " 5.82523376533\n",
        "(0, 4)"
       ]
      },
      {
       "output_type": "stream",
       "stream": "stdout",
       "text": [
        " 5.76320341313\n",
        "(2, 3)"
       ]
      },
      {
       "output_type": "stream",
       "stream": "stdout",
       "text": [
        " 5.91039370404\n",
        "(0, 3)"
       ]
      },
      {
       "output_type": "stream",
       "stream": "stdout",
       "text": [
        " 5.34632750966\n",
        "(3, 4)"
       ]
      },
      {
       "output_type": "stream",
       "stream": "stdout",
       "text": [
        " 6.42332594346\n",
        "(0, 2)"
       ]
      },
      {
       "output_type": "stream",
       "stream": "stdout",
       "text": [
        " 5.35139632499\n",
        "(3, 5)"
       ]
      },
      {
       "output_type": "stream",
       "stream": "stdout",
       "text": [
        " 6.23085043941\n"
       ]
      }
     ],
     "prompt_number": 89
    },
    {
     "cell_type": "code",
     "collapsed": false,
     "input": [
      "%matplotlib inline\n",
      "\n",
      "x_labels = []\n",
      "values = []\n",
      "ymean = []\n",
      "\n",
      "with open('ltr6_cap2_20000wds.pickle') as f:\n",
      "    x_labels, values, ymean = pickle.load(f)\n",
      "\n",
      "#calculate standard, deviation, standard error, and variance\n",
      "var_sum = 0\n",
      "std_dev = []\n",
      "std_err = []\n",
      "x = []\n",
      "for ind in range(len(values)):\n",
      "    for i in range(len(values[ind])):\n",
      "        var_sum += (values[ind][i] - ymean[ind])**2\n",
      "    variance = var_sum/(len(values[ind]) - 1)\n",
      "    std_dev.append(math.sqrt(variance))\n",
      "    std_err.append(std_dev[ind]/math.sqrt(len(values[ind])))\n",
      "    x.append(ind)\n",
      "    \n",
      "#x = np.arrange(len(values))\n",
      "\n",
      "#create bar graph\n",
      "width = .4\n",
      "tick_sep = [elm + width for elm in x]\n",
      "fig, ax = plt.subplots(figsize=(10,9))\n",
      "rects1 = ax.bar(tuple(tick_sep), tuple(ymean), width, color='r', yerr=std_err)\n",
      "\n",
      "#plus beauty\n",
      "ax.set_ylabel('Information Content')\n",
      "ax.set_title('Information Content of Words, by Letter Positions Remembered', fontsize = 14)\n",
      "ax.set_xticks(tick_sep)\n",
      "ax.set_xticklabels([str(el) for el in x_labels])\n",
      "ax.set_xlabel('Letter Indices Remembered')\n",
      "\n",
      "#ax.legend( (rects1[0], rects2[0]), ('Men', 'Women') )\n",
      "\n",
      "def autolabel(rects,ymean):\n",
      "    # attach some text labels\n",
      "    for idx in range(len(rects)):\n",
      "        height = rects[idx].get_height()\n",
      "        ax.text(rects[idx].get_x()+rects[idx].get_width()/2., 1.05*ymean[idx], '%10.3f'%ymean[idx],\n",
      "                ha='center', va='bottom')\n",
      "autolabel(rects1,ymean)\n",
      "\n"
     ],
     "language": "python",
     "metadata": {},
     "outputs": [
      {
       "metadata": {},
       "output_type": "display_data",
       "png": "[encoded data removed]",
       "text": [
        "<matplotlib.figure.Figure at 0xdffebac>"
       ]
      }
     ],
     "prompt_number": 96
    },
    {
     "cell_type": "code",
     "collapsed": false,
     "input": [
      "run opt_WM_strategy"
     ],
     "language": "python",
     "metadata": {},
     "outputs": [
      {
       "output_type": "stream",
       "stream": "stdout",
       "text": [
        "[(4, 7), (1, 3), (5, 6), (8, 0), (0, 7), (1, 6), (3, 7), (2, 5), (8, 5), (0, 3), (1, 2), (6, 7), (8, 1), (1, 5), (3, 6), (0, 4), (8, 6), (2, 7), (2, 6), (8, 2), (4, 5), (1, 4), (0, 5), (8, 7), (3, 5), (0, 1), (8, 3), (4, 6), (5, 7), (0, 2), (0, 6), (1, 7), (2, 3), (3, 4), (2, 4), (8, 4)]\n",
        "[4, 7]\n",
        "[1, 3]"
       ]
      },
      {
       "output_type": "stream",
       "stream": "stdout",
       "text": [
        "\n",
        "[5, 6]\n",
        "[8, 0]"
       ]
      },
      {
       "output_type": "stream",
       "stream": "stdout",
       "text": [
        "\n",
        "[0, 7]"
       ]
      },
      {
       "output_type": "stream",
       "stream": "stdout",
       "text": [
        "\n",
        "[1, 6]"
       ]
      },
      {
       "output_type": "stream",
       "stream": "stdout",
       "text": [
        "\n",
        "[3, 7]"
       ]
      },
      {
       "output_type": "stream",
       "stream": "stdout",
       "text": [
        "\n",
        "[2, 5]"
       ]
      },
      {
       "output_type": "stream",
       "stream": "stdout",
       "text": [
        "\n",
        "[8, 5]"
       ]
      },
      {
       "output_type": "stream",
       "stream": "stdout",
       "text": [
        "\n",
        "[0, 3]"
       ]
      },
      {
       "output_type": "stream",
       "stream": "stdout",
       "text": [
        "\n",
        "[1, 2]"
       ]
      },
      {
       "output_type": "stream",
       "stream": "stdout",
       "text": [
        "\n",
        "[6, 7]"
       ]
      },
      {
       "output_type": "stream",
       "stream": "stdout",
       "text": [
        "\n",
        "[8, 1]"
       ]
      },
      {
       "output_type": "stream",
       "stream": "stdout",
       "text": [
        "\n",
        "[1, 5]"
       ]
      },
      {
       "output_type": "stream",
       "stream": "stdout",
       "text": [
        "\n",
        "[3, 6]"
       ]
      },
      {
       "output_type": "stream",
       "stream": "stdout",
       "text": [
        "\n",
        "[0, 4]"
       ]
      },
      {
       "output_type": "stream",
       "stream": "stdout",
       "text": [
        "\n",
        "[8, 6]"
       ]
      },
      {
       "output_type": "stream",
       "stream": "stdout",
       "text": [
        "\n",
        "[2, 7]"
       ]
      },
      {
       "output_type": "stream",
       "stream": "stdout",
       "text": [
        "\n",
        "[2, 6]"
       ]
      },
      {
       "output_type": "stream",
       "stream": "stdout",
       "text": [
        "\n",
        "[8, 2]"
       ]
      },
      {
       "output_type": "stream",
       "stream": "stdout",
       "text": [
        "\n",
        "[4, 5]"
       ]
      },
      {
       "output_type": "stream",
       "stream": "stdout",
       "text": [
        "\n",
        "[1, 4]"
       ]
      },
      {
       "output_type": "stream",
       "stream": "stdout",
       "text": [
        "\n",
        "[0, 5]"
       ]
      },
      {
       "output_type": "stream",
       "stream": "stdout",
       "text": [
        "\n",
        "[8, 7]"
       ]
      },
      {
       "output_type": "stream",
       "stream": "stdout",
       "text": [
        "\n",
        "[3, 5]"
       ]
      },
      {
       "output_type": "stream",
       "stream": "stdout",
       "text": [
        "\n",
        "[0, 1]"
       ]
      },
      {
       "output_type": "stream",
       "stream": "stdout",
       "text": [
        "\n",
        "[8, 3]"
       ]
      },
      {
       "output_type": "stream",
       "stream": "stdout",
       "text": [
        "\n",
        "[4, 6]"
       ]
      },
      {
       "output_type": "stream",
       "stream": "stdout",
       "text": [
        "\n",
        "[5, 7]"
       ]
      },
      {
       "output_type": "stream",
       "stream": "stdout",
       "text": [
        "\n",
        "[0, 2]"
       ]
      },
      {
       "output_type": "stream",
       "stream": "stdout",
       "text": [
        "\n",
        "[0, 6]"
       ]
      },
      {
       "output_type": "stream",
       "stream": "stdout",
       "text": [
        "\n",
        "[1, 7]"
       ]
      },
      {
       "output_type": "stream",
       "stream": "stdout",
       "text": [
        "\n",
        "[2, 3]"
       ]
      },
      {
       "output_type": "stream",
       "stream": "stdout",
       "text": [
        "\n",
        "[3, 4]"
       ]
      },
      {
       "output_type": "stream",
       "stream": "stdout",
       "text": [
        "\n",
        "[2, 4]"
       ]
      },
      {
       "output_type": "stream",
       "stream": "stdout",
       "text": [
        "\n",
        "[8, 4]"
       ]
      },
      {
       "output_type": "stream",
       "stream": "stdout",
       "text": [
        "\n",
        "(4, 7)"
       ]
      },
      {
       "output_type": "stream",
       "stream": "stdout",
       "text": [
        " 6.30539138691\n",
        "(1, 3)"
       ]
      },
      {
       "output_type": "stream",
       "stream": "stdout",
       "text": [
        " 6.11678827627\n",
        "(5, 6)"
       ]
      },
      {
       "output_type": "stream",
       "stream": "stdout",
       "text": [
        " 6.8473950032\n",
        "(8, 0)"
       ]
      },
      {
       "output_type": "stream",
       "stream": "stdout",
       "text": [
        " 6.26564718808\n",
        "(0, 7)"
       ]
      },
      {
       "output_type": "stream",
       "stream": "stdout",
       "text": [
        " 6.08576826223\n",
        "(1, 6)"
       ]
      },
      {
       "output_type": "stream",
       "stream": "stdout",
       "text": [
        " 6.2563667065\n",
        "(3, 7)"
       ]
      },
      {
       "output_type": "stream",
       "stream": "stdout",
       "text": [
        " 6.05244616277\n",
        "(2, 5)"
       ]
      },
      {
       "output_type": "stream",
       "stream": "stdout",
       "text": [
        " 5.6427519578\n",
        "(8, 5)"
       ]
      },
      {
       "output_type": "stream",
       "stream": "stdout",
       "text": [
        " 6.67560322376\n",
        "(0, 3)"
       ]
      },
      {
       "output_type": "stream",
       "stream": "stdout",
       "text": [
        " 5.77746528528\n",
        "(1, 2)"
       ]
      },
      {
       "output_type": "stream",
       "stream": "stdout",
       "text": [
        " 6.64818132104\n",
        "(6, 7)"
       ]
      },
      {
       "output_type": "stream",
       "stream": "stdout",
       "text": [
        " 7.41001867486\n",
        "(8, 1)"
       ]
      },
      {
       "output_type": "stream",
       "stream": "stdout",
       "text": [
        " 6.5656219044\n",
        "(1, 5)"
       ]
      },
      {
       "output_type": "stream",
       "stream": "stdout",
       "text": [
        " 6.01179155547\n",
        "(3, 6)"
       ]
      },
      {
       "output_type": "stream",
       "stream": "stdout",
       "text": [
        " 6.0056265627\n",
        "(0, 4)"
       ]
      },
      {
       "output_type": "stream",
       "stream": "stdout",
       "text": [
        " 5.76767917356\n",
        "(8, 6)"
       ]
      },
      {
       "output_type": "stream",
       "stream": "stdout",
       "text": [
        " 7.28111847197\n",
        "(2, 7)"
       ]
      },
      {
       "output_type": "stream",
       "stream": "stdout",
       "text": [
        " 5.98829633612\n",
        "(2, 6)"
       ]
      },
      {
       "output_type": "stream",
       "stream": "stdout",
       "text": [
        " 5.90168837234\n",
        "(8, 2)"
       ]
      },
      {
       "output_type": "stream",
       "stream": "stdout",
       "text": [
        " 6.13918270357\n",
        "(4, 5)"
       ]
      },
      {
       "output_type": "stream",
       "stream": "stdout",
       "text": [
        " 6.30681850795\n",
        "(1, 4)"
       ]
      },
      {
       "output_type": "stream",
       "stream": "stdout",
       "text": [
        " 6.06035731723\n",
        "(0, 5)"
       ]
      },
      {
       "output_type": "stream",
       "stream": "stdout",
       "text": [
        " 5.71018978296\n",
        "(8, 7)"
       ]
      },
      {
       "output_type": "stream",
       "stream": "stdout",
       "text": [
        " 8.15567093785\n",
        "(3, 5)"
       ]
      },
      {
       "output_type": "stream",
       "stream": "stdout",
       "text": [
        " 5.82243278005\n",
        "(0, 1)"
       ]
      },
      {
       "output_type": "stream",
       "stream": "stdout",
       "text": [
        " 7.34102218397\n",
        "(8, 3)"
       ]
      },
      {
       "output_type": "stream",
       "stream": "stdout",
       "text": [
        " 6.23506101967\n",
        "(4, 6)"
       ]
      },
      {
       "output_type": "stream",
       "stream": "stdout",
       "text": [
        " 6.27543421591\n",
        "(5, 7)"
       ]
      },
      {
       "output_type": "stream",
       "stream": "stdout",
       "text": [
        " 6.58717687457\n",
        "(0, 2)"
       ]
      },
      {
       "output_type": "stream",
       "stream": "stdout",
       "text": [
        " 5.90366083347\n",
        "(0, 6)"
       ]
      },
      {
       "output_type": "stream",
       "stream": "stdout",
       "text": [
        " 5.97766529344\n",
        "(1, 7)"
       ]
      },
      {
       "output_type": "stream",
       "stream": "stdout",
       "text": [
        " 6.35179156706\n",
        "(2, 3)"
       ]
      },
      {
       "output_type": "stream",
       "stream": "stdout",
       "text": [
        " 6.11934737048\n",
        "(3, 4)"
       ]
      },
      {
       "output_type": "stream",
       "stream": "stdout",
       "text": [
        " 6.20922028581\n",
        "(2, 4)"
       ]
      },
      {
       "output_type": "stream",
       "stream": "stdout",
       "text": [
        " 5.77591655074\n",
        "(8, 4)"
       ]
      },
      {
       "output_type": "stream",
       "stream": "stdout",
       "text": [
        " 6.42262733038\n"
       ]
      }
     ],
     "prompt_number": 97
    },
    {
     "cell_type": "code",
     "collapsed": false,
     "input": [
      "%matplotlib inline\n",
      "\n",
      "x_labels = []\n",
      "values = []\n",
      "ymean = []\n",
      "\n",
      "with open('ltr9_cap2_20000wds.pickle') as f:\n",
      "    x_labels, values, ymean = pickle.load(f)\n",
      "\n",
      "#calculate standard, deviation, standard error, and variance\n",
      "var_sum = 0\n",
      "std_dev = []\n",
      "std_err = []\n",
      "x = []\n",
      "for ind in range(len(values)):\n",
      "    for i in range(len(values[ind])):\n",
      "        var_sum += (values[ind][i] - ymean[ind])**2\n",
      "    variance = var_sum/(len(values[ind]) - 1)\n",
      "    std_dev.append(math.sqrt(variance))\n",
      "    std_err.append(std_dev[ind]/math.sqrt(len(values[ind])))\n",
      "    x.append(ind)\n",
      "    \n",
      "#x = np.arrange(len(values))\n",
      "\n",
      "#create bar graph\n",
      "width = .4\n",
      "tick_sep = [elm + width for elm in x]\n",
      "fig, ax = plt.subplots(figsize = (19,7))\n",
      "rects1 = ax.bar(tuple(tick_sep), tuple(ymean), width, color='r', yerr=std_err)\n",
      "\n",
      "#plus beauty\n",
      "ax.set_ylabel('Information Content')\n",
      "ax.set_title('Information Content of Words, by Letter Positions Remembered', fontsize = 14)\n",
      "ax.set_xticks(tick_sep)\n",
      "ax.set_xticklabels([str(el) for el in x_labels])\n",
      "ax.set_xlabel('Letter Indices Remembered')\n",
      "\n",
      "#ax.legend( (rects1[0], rects2[0]), ('Men', 'Women') )\n",
      "\n",
      "def autolabel(rects,ymean):\n",
      "    # attach some text labels\n",
      "    for idx in range(len(rects)):\n",
      "        height = rects[idx].get_height()\n",
      "        ax.text(rects[idx].get_x()+rects[idx].get_width()/2., 1.05*ymean[idx], '%10.3f'%ymean[idx],\n",
      "                ha='center', va='bottom')\n",
      "autolabel(rects1,ymean)\n",
      "\n"
     ],
     "language": "python",
     "metadata": {},
     "outputs": [
      {
       "metadata": {},
       "output_type": "display_data",
       "png": "[encoded data removed]",
       "text": [
        "<matplotlib.figure.Figure at 0xdfdeacc>"
       ]
      }
     ],
     "prompt_number": 102
    },
    {
     "cell_type": "markdown",
     "metadata": {},
     "source": [
      "increase capacity to 6:"
     ]
    },
    {
     "cell_type": "code",
     "collapsed": false,
     "input": [
      "run opt_WM_strategy"
     ],
     "language": "python",
     "metadata": {},
     "outputs": [
      {
       "output_type": "stream",
       "stream": "stdout",
       "text": [
        "20000 180000\n",
        "[(0, 2, 3, 5, 6, 7), (0, 1, 3, 5, 6, 7), (0, 1, 2, 4, 5, 7), (1, 2, 3, 4, 5, 7), (0, 1, 2, 3, 4, 7), (0, 2, 3, 4, 5, 6), (1, 2, 3, 4, 5, 8), (1, 2, 3, 4, 6, 7), (0, 1, 2, 4, 5, 8), (1, 2, 3, 5, 6, 8), (0, 2, 3, 4, 5, 8), (0, 1, 2, 3, 5, 8), (0, 2, 3, 5, 6, 8), (0, 1, 2, 4, 6, 8), (2, 3, 4, 5, 7, 8), (1, 3, 5, 6, 7, 8), (0, 2, 3, 5, 7, 8), (0, 1, 4, 5, 6, 8), (0, 1, 2, 5, 6, 8), (0, 1, 4, 5, 6, 7), (2, 3, 4, 6, 7, 8), (0, 2, 4, 6, 7, 8), (0, 1, 4, 6, 7, 8), (0, 1, 5, 6, 7, 8), (2, 3, 4, 5, 6, 7), (0, 2, 3, 4, 5, 7), (0, 1, 2, 6, 7, 8), (0, 1, 3, 6, 7, 8), (0, 1, 3, 5, 7, 8), (2, 3, 5, 6, 7, 8), (0, 3, 4, 6, 7, 8), (1, 2, 3, 4, 5, 6), (0, 1, 2, 3, 6, 8), (0, 1, 2, 5, 6, 7), (0, 1, 2, 3, 6, 7), (1, 2, 3, 4, 7, 8), (0, 1, 4, 5, 7, 8), (0, 1, 2, 5, 7, 8), (0, 2, 3, 4, 7, 8), (1, 2, 3, 5, 6, 7), (0, 3, 4, 5, 6, 7), (0, 3, 4, 5, 6, 8), (1, 4, 5, 6, 7, 8), (0, 1, 3, 4, 5, 7), (0, 2, 3, 4, 6, 7), (0, 1, 3, 4, 5, 8), (0, 1, 3, 4, 6, 7), (0, 1, 3, 5, 6, 8), (1, 3, 4, 5, 6, 7), (0, 4, 5, 6, 7, 8), (0, 3, 5, 6, 7, 8), (1, 2, 3, 4, 6, 8), (0, 1, 2, 3, 4, 5), (1, 2, 4, 5, 6, 8), (1, 3, 4, 6, 7, 8), (1, 3, 4, 5, 7, 8), (1, 2, 4, 5, 6, 7), (0, 2, 4, 5, 6, 8), (0, 2, 4, 5, 6, 7), (0, 1, 2, 3, 7, 8), (1, 2, 4, 6, 7, 8), (0, 1, 3, 4, 5, 6), (0, 1, 2, 3, 5, 7), (3, 4, 5, 6, 7, 8), (0, 1, 3, 4, 6, 8), (1, 2, 3, 6, 7, 8), (1, 2, 3, 5, 7, 8), (0, 2, 3, 4, 6, 8), (0, 1, 2, 3, 4, 8), (2, 4, 5, 6, 7, 8), (0, 1, 2, 4, 5, 6), (0, 1, 2, 3, 4, 6), (0, 2, 4, 5, 7, 8), (0, 3, 4, 5, 7, 8), (2, 3, 4, 5, 6, 8), (0, 1, 2, 4, 7, 8), (0, 1, 2, 3, 5, 6), (1, 2, 5, 6, 7, 8), (0, 1, 3, 4, 7, 8), (0, 2, 5, 6, 7, 8), (1, 2, 4, 5, 7, 8), (0, 1, 2, 4, 6, 7), (1, 3, 4, 5, 6, 8), (0, 2, 3, 6, 7, 8)]"
       ]
      },
      {
       "output_type": "stream",
       "stream": "stdout",
       "text": [
        "\n",
        "[0, 2, 3, 5, 6, 7]\n",
        "[0, 1, 3, 5, 6, 7]"
       ]
      },
      {
       "output_type": "stream",
       "stream": "stdout",
       "text": [
        "\n",
        "[0, 1, 2, 4, 5, 7]"
       ]
      },
      {
       "output_type": "stream",
       "stream": "stdout",
       "text": [
        "\n",
        "[1, 2, 3, 4, 5, 7]"
       ]
      },
      {
       "output_type": "stream",
       "stream": "stdout",
       "text": [
        "\n",
        "[0, 1, 2, 3, 4, 7]"
       ]
      },
      {
       "output_type": "stream",
       "stream": "stdout",
       "text": [
        "\n",
        "[0, 2, 3, 4, 5, 6]"
       ]
      },
      {
       "output_type": "stream",
       "stream": "stdout",
       "text": [
        "\n",
        "[1, 2, 3, 4, 5, 8]"
       ]
      },
      {
       "output_type": "stream",
       "stream": "stdout",
       "text": [
        "\n",
        "[1, 2, 3, 4, 6, 7]"
       ]
      },
      {
       "output_type": "stream",
       "stream": "stdout",
       "text": [
        "\n",
        "[0, 1, 2, 4, 5, 8]"
       ]
      },
      {
       "output_type": "stream",
       "stream": "stdout",
       "text": [
        "\n",
        "[1, 2, 3, 5, 6, 8]"
       ]
      },
      {
       "output_type": "stream",
       "stream": "stdout",
       "text": [
        "\n",
        "[0, 2, 3, 4, 5, 8]"
       ]
      },
      {
       "output_type": "stream",
       "stream": "stdout",
       "text": [
        "\n",
        "[0, 1, 2, 3, 5, 8]"
       ]
      },
      {
       "output_type": "stream",
       "stream": "stdout",
       "text": [
        "\n",
        "[0, 2, 3, 5, 6, 8]"
       ]
      },
      {
       "output_type": "stream",
       "stream": "stdout",
       "text": [
        "\n",
        "[0, 1, 2, 4, 6, 8]"
       ]
      },
      {
       "output_type": "stream",
       "stream": "stdout",
       "text": [
        "\n",
        "[2, 3, 4, 5, 7, 8]"
       ]
      },
      {
       "output_type": "stream",
       "stream": "stdout",
       "text": [
        "\n",
        "[1, 3, 5, 6, 7, 8]"
       ]
      },
      {
       "output_type": "stream",
       "stream": "stdout",
       "text": [
        "\n",
        "[0, 2, 3, 5, 7, 8]"
       ]
      },
      {
       "output_type": "stream",
       "stream": "stdout",
       "text": [
        "\n",
        "[0, 1, 4, 5, 6, 8]"
       ]
      },
      {
       "output_type": "stream",
       "stream": "stdout",
       "text": [
        "\n",
        "[0, 1, 2, 5, 6, 8]"
       ]
      },
      {
       "output_type": "stream",
       "stream": "stdout",
       "text": [
        "\n",
        "[0, 1, 4, 5, 6, 7]"
       ]
      },
      {
       "output_type": "stream",
       "stream": "stdout",
       "text": [
        "\n",
        "[2, 3, 4, 6, 7, 8]"
       ]
      },
      {
       "output_type": "stream",
       "stream": "stdout",
       "text": [
        "\n",
        "[0, 2, 4, 6, 7, 8]"
       ]
      },
      {
       "output_type": "stream",
       "stream": "stdout",
       "text": [
        "\n",
        "[0, 1, 4, 6, 7, 8]"
       ]
      },
      {
       "output_type": "stream",
       "stream": "stdout",
       "text": [
        "\n",
        "[0, 1, 5, 6, 7, 8]"
       ]
      },
      {
       "output_type": "stream",
       "stream": "stdout",
       "text": [
        "\n",
        "[2, 3, 4, 5, 6, 7]"
       ]
      },
      {
       "output_type": "stream",
       "stream": "stdout",
       "text": [
        "\n",
        "[0, 2, 3, 4, 5, 7]"
       ]
      },
      {
       "output_type": "stream",
       "stream": "stdout",
       "text": [
        "\n",
        "[0, 1, 2, 6, 7, 8]"
       ]
      },
      {
       "output_type": "stream",
       "stream": "stdout",
       "text": [
        "\n",
        "[0, 1, 3, 6, 7, 8]"
       ]
      },
      {
       "output_type": "stream",
       "stream": "stdout",
       "text": [
        "\n",
        "[0, 1, 3, 5, 7, 8]"
       ]
      },
      {
       "output_type": "stream",
       "stream": "stdout",
       "text": [
        "\n",
        "[2, 3, 5, 6, 7, 8]"
       ]
      },
      {
       "output_type": "stream",
       "stream": "stdout",
       "text": [
        "\n",
        "[0, 3, 4, 6, 7, 8]"
       ]
      },
      {
       "output_type": "stream",
       "stream": "stdout",
       "text": [
        "\n",
        "[1, 2, 3, 4, 5, 6]"
       ]
      },
      {
       "output_type": "stream",
       "stream": "stdout",
       "text": [
        "\n",
        "[0, 1, 2, 3, 6, 8]"
       ]
      },
      {
       "output_type": "stream",
       "stream": "stdout",
       "text": [
        "\n",
        "[0, 1, 2, 5, 6, 7]"
       ]
      },
      {
       "output_type": "stream",
       "stream": "stdout",
       "text": [
        "\n",
        "[0, 1, 2, 3, 6, 7]"
       ]
      },
      {
       "output_type": "stream",
       "stream": "stdout",
       "text": [
        "\n",
        "[1, 2, 3, 4, 7, 8]"
       ]
      },
      {
       "output_type": "stream",
       "stream": "stdout",
       "text": [
        "\n",
        "[0, 1, 4, 5, 7, 8]"
       ]
      },
      {
       "output_type": "stream",
       "stream": "stdout",
       "text": [
        "\n",
        "[0, 1, 2, 5, 7, 8]"
       ]
      },
      {
       "output_type": "stream",
       "stream": "stdout",
       "text": [
        "\n",
        "[0, 2, 3, 4, 7, 8]"
       ]
      },
      {
       "output_type": "stream",
       "stream": "stdout",
       "text": [
        "\n",
        "[1, 2, 3, 5, 6, 7]"
       ]
      },
      {
       "output_type": "stream",
       "stream": "stdout",
       "text": [
        "\n",
        "[0, 3, 4, 5, 6, 7]"
       ]
      },
      {
       "output_type": "stream",
       "stream": "stdout",
       "text": [
        "\n",
        "[0, 3, 4, 5, 6, 8]"
       ]
      },
      {
       "output_type": "stream",
       "stream": "stdout",
       "text": [
        "\n",
        "[1, 4, 5, 6, 7, 8]"
       ]
      },
      {
       "output_type": "stream",
       "stream": "stdout",
       "text": [
        "\n",
        "[0, 1, 3, 4, 5, 7]"
       ]
      },
      {
       "output_type": "stream",
       "stream": "stdout",
       "text": [
        "\n",
        "[0, 2, 3, 4, 6, 7]"
       ]
      },
      {
       "output_type": "stream",
       "stream": "stdout",
       "text": [
        "\n",
        "[0, 1, 3, 4, 5, 8]"
       ]
      },
      {
       "output_type": "stream",
       "stream": "stdout",
       "text": [
        "\n",
        "[0, 1, 3, 4, 6, 7]"
       ]
      },
      {
       "output_type": "stream",
       "stream": "stdout",
       "text": [
        "\n",
        "[0, 1, 3, 5, 6, 8]"
       ]
      },
      {
       "output_type": "stream",
       "stream": "stdout",
       "text": [
        "\n",
        "[1, 3, 4, 5, 6, 7]"
       ]
      },
      {
       "output_type": "stream",
       "stream": "stdout",
       "text": [
        "\n",
        "[0, 4, 5, 6, 7, 8]"
       ]
      },
      {
       "output_type": "stream",
       "stream": "stdout",
       "text": [
        "\n",
        "[0, 3, 5, 6, 7, 8]"
       ]
      },
      {
       "output_type": "stream",
       "stream": "stdout",
       "text": [
        "\n",
        "[1, 2, 3, 4, 6, 8]"
       ]
      },
      {
       "output_type": "stream",
       "stream": "stdout",
       "text": [
        "\n",
        "[0, 1, 2, 3, 4, 5]"
       ]
      },
      {
       "output_type": "stream",
       "stream": "stdout",
       "text": [
        "\n",
        "[1, 2, 4, 5, 6, 8]"
       ]
      },
      {
       "output_type": "stream",
       "stream": "stdout",
       "text": [
        "\n",
        "[1, 3, 4, 6, 7, 8]"
       ]
      },
      {
       "output_type": "stream",
       "stream": "stdout",
       "text": [
        "\n",
        "[1, 3, 4, 5, 7, 8]"
       ]
      },
      {
       "output_type": "stream",
       "stream": "stdout",
       "text": [
        "\n",
        "[1, 2, 4, 5, 6, 7]"
       ]
      },
      {
       "output_type": "stream",
       "stream": "stdout",
       "text": [
        "\n",
        "[0, 2, 4, 5, 6, 8]"
       ]
      },
      {
       "output_type": "stream",
       "stream": "stdout",
       "text": [
        "\n",
        "[0, 2, 4, 5, 6, 7]"
       ]
      },
      {
       "output_type": "stream",
       "stream": "stdout",
       "text": [
        "\n",
        "[0, 1, 2, 3, 7, 8]"
       ]
      },
      {
       "output_type": "stream",
       "stream": "stdout",
       "text": [
        "\n",
        "[1, 2, 4, 6, 7, 8]"
       ]
      },
      {
       "output_type": "stream",
       "stream": "stdout",
       "text": [
        "\n",
        "[0, 1, 3, 4, 5, 6]"
       ]
      },
      {
       "output_type": "stream",
       "stream": "stdout",
       "text": [
        "\n",
        "[0, 1, 2, 3, 5, 7]"
       ]
      },
      {
       "output_type": "stream",
       "stream": "stdout",
       "text": [
        "\n",
        "[3, 4, 5, 6, 7, 8]"
       ]
      },
      {
       "output_type": "stream",
       "stream": "stdout",
       "text": [
        "\n",
        "[0, 1, 3, 4, 6, 8]"
       ]
      },
      {
       "output_type": "stream",
       "stream": "stdout",
       "text": [
        "\n",
        "[1, 2, 3, 6, 7, 8]"
       ]
      },
      {
       "output_type": "stream",
       "stream": "stdout",
       "text": [
        "\n",
        "[1, 2, 3, 5, 7, 8]"
       ]
      },
      {
       "output_type": "stream",
       "stream": "stdout",
       "text": [
        "\n",
        "[0, 2, 3, 4, 6, 8]"
       ]
      },
      {
       "output_type": "stream",
       "stream": "stdout",
       "text": [
        "\n",
        "[0, 1, 2, 3, 4, 8]"
       ]
      },
      {
       "output_type": "stream",
       "stream": "stdout",
       "text": [
        "\n",
        "[2, 4, 5, 6, 7, 8]"
       ]
      },
      {
       "output_type": "stream",
       "stream": "stdout",
       "text": [
        "\n",
        "[0, 1, 2, 4, 5, 6]"
       ]
      },
      {
       "output_type": "stream",
       "stream": "stdout",
       "text": [
        "\n",
        "[0, 1, 2, 3, 4, 6]"
       ]
      },
      {
       "output_type": "stream",
       "stream": "stdout",
       "text": [
        "\n",
        "[0, 2, 4, 5, 7, 8]"
       ]
      },
      {
       "output_type": "stream",
       "stream": "stdout",
       "text": [
        "\n",
        "[0, 3, 4, 5, 7, 8]"
       ]
      },
      {
       "output_type": "stream",
       "stream": "stdout",
       "text": [
        "\n",
        "[2, 3, 4, 5, 6, 8]"
       ]
      },
      {
       "output_type": "stream",
       "stream": "stdout",
       "text": [
        "\n",
        "[0, 1, 2, 4, 7, 8]"
       ]
      },
      {
       "output_type": "stream",
       "stream": "stdout",
       "text": [
        "\n",
        "[0, 1, 2, 3, 5, 6]"
       ]
      },
      {
       "output_type": "stream",
       "stream": "stdout",
       "text": [
        "\n",
        "[1, 2, 5, 6, 7, 8]"
       ]
      },
      {
       "output_type": "stream",
       "stream": "stdout",
       "text": [
        "\n",
        "[0, 1, 3, 4, 7, 8]"
       ]
      },
      {
       "output_type": "stream",
       "stream": "stdout",
       "text": [
        "\n",
        "[0, 2, 5, 6, 7, 8]"
       ]
      },
      {
       "output_type": "stream",
       "stream": "stdout",
       "text": [
        "\n",
        "[1, 2, 4, 5, 7, 8]"
       ]
      },
      {
       "output_type": "stream",
       "stream": "stdout",
       "text": [
        "\n",
        "[0, 1, 2, 4, 6, 7]"
       ]
      },
      {
       "output_type": "stream",
       "stream": "stdout",
       "text": [
        "\n",
        "[1, 3, 4, 5, 6, 8]"
       ]
      },
      {
       "output_type": "stream",
       "stream": "stdout",
       "text": [
        "\n",
        "[0, 2, 3, 6, 7, 8]"
       ]
      },
      {
       "output_type": "stream",
       "stream": "stdout",
       "text": [
        "\n",
        "(0, 2, 3, 5, 6, 7)"
       ]
      },
      {
       "output_type": "stream",
       "stream": "stdout",
       "text": [
        " 1.62979452395\n",
        "(0, 1, 3, 5, 6, 7)"
       ]
      },
      {
       "output_type": "stream",
       "stream": "stdout",
       "text": [
        " 1.66401451257\n",
        "(0, 1, 2, 4, 5, 7)"
       ]
      },
      {
       "output_type": "stream",
       "stream": "stdout",
       "text": [
        " 1.67291382581\n",
        "(1, 2, 3, 4, 5, 7)"
       ]
      },
      {
       "output_type": "stream",
       "stream": "stdout",
       "text": [
        " 1.67453656447\n",
        "(0, 1, 2, 3, 4, 7)"
       ]
      },
      {
       "output_type": "stream",
       "stream": "stdout",
       "text": [
        " 1.69435151882\n",
        "(0, 2, 3, 4, 5, 6)"
       ]
      },
      {
       "output_type": "stream",
       "stream": "stdout",
       "text": [
        " 1.75251132535\n",
        "(1, 2, 3, 4, 5, 8)"
       ]
      },
      {
       "output_type": "stream",
       "stream": "stdout",
       "text": [
        " 1.61134876067\n",
        "(1, 2, 3, 4, 6, 7)"
       ]
      },
      {
       "output_type": "stream",
       "stream": "stdout",
       "text": [
        " 1.66062547078\n",
        "(0, 1, 2, 4, 5, 8)"
       ]
      },
      {
       "output_type": "stream",
       "stream": "stdout",
       "text": [
        " 1.60796662634\n",
        "(1, 2, 3, 5, 6, 8)"
       ]
      },
      {
       "output_type": "stream",
       "stream": "stdout",
       "text": [
        " 1.59192250366\n",
        "(0, 2, 3, 4, 5, 8)"
       ]
      },
      {
       "output_type": "stream",
       "stream": "stdout",
       "text": [
        " 1.59017414251\n",
        "(0, 1, 2, 3, 5, 8)"
       ]
      },
      {
       "output_type": "stream",
       "stream": "stdout",
       "text": [
        " 1.59942398281\n",
        "(0, 2, 3, 5, 6, 8)"
       ]
      },
      {
       "output_type": "stream",
       "stream": "stdout",
       "text": [
        " 1.57263401948\n",
        "(0, 1, 2, 4, 6, 8)"
       ]
      },
      {
       "output_type": "stream",
       "stream": "stdout",
       "text": [
        " 1.60871667428\n",
        "(2, 3, 4, 5, 7, 8)"
       ]
      },
      {
       "output_type": "stream",
       "stream": "stdout",
       "text": [
        " 1.69146887152\n",
        "(1, 3, 5, 6, 7, 8)"
       ]
      },
      {
       "output_type": "stream",
       "stream": "stdout",
       "text": [
        " 1.69641343344\n",
        "(0, 2, 3, 5, 7, 8)"
       ]
      },
      {
       "output_type": "stream",
       "stream": "stdout",
       "text": [
        " 1.57209900989\n",
        "(0, 1, 4, 5, 6, 8)"
       ]
      },
      {
       "output_type": "stream",
       "stream": "stdout",
       "text": [
        " 1.63058113188\n",
        "(0, 1, 2, 5, 6, 8)"
       ]
      },
      {
       "output_type": "stream",
       "stream": "stdout",
       "text": [
        " 1.62377730178\n",
        "(0, 1, 4, 5, 6, 7)"
       ]
      },
      {
       "output_type": "stream",
       "stream": "stdout",
       "text": [
        " 1.69115418152\n",
        "(2, 3, 4, 6, 7, 8)"
       ]
      },
      {
       "output_type": "stream",
       "stream": "stdout",
       "text": [
        " 1.72179136907\n",
        "(0, 2, 4, 6, 7, 8)"
       ]
      },
      {
       "output_type": "stream",
       "stream": "stdout",
       "text": [
        " 1.61138201511\n",
        "(0, 1, 4, 6, 7, 8)"
       ]
      },
      {
       "output_type": "stream",
       "stream": "stdout",
       "text": [
        " 1.71792622122\n",
        "(0, 1, 5, 6, 7, 8)"
       ]
      },
      {
       "output_type": "stream",
       "stream": "stdout",
       "text": [
        " 1.77314347326\n",
        "(2, 3, 4, 5, 6, 7)"
       ]
      },
      {
       "output_type": "stream",
       "stream": "stdout",
       "text": [
        " 1.75874738153\n",
        "(0, 2, 3, 4, 5, 7)"
       ]
      },
      {
       "output_type": "stream",
       "stream": "stdout",
       "text": [
        " 1.6502755345\n",
        "(0, 1, 2, 6, 7, 8)"
       ]
      },
      {
       "output_type": "stream",
       "stream": "stdout",
       "text": [
        " 1.75779269853\n",
        "(0, 1, 3, 6, 7, 8)"
       ]
      },
      {
       "output_type": "stream",
       "stream": "stdout",
       "text": [
        " 1.69578995224\n",
        "(0, 1, 3, 5, 7, 8)"
       ]
      },
      {
       "output_type": "stream",
       "stream": "stdout",
       "text": [
        " 1.60770289308\n",
        "(2, 3, 5, 6, 7, 8)"
       ]
      },
      {
       "output_type": "stream",
       "stream": "stdout",
       "text": [
        " 1.73451596389\n",
        "(0, 3, 4, 6, 7, 8)"
       ]
      },
      {
       "output_type": "stream",
       "stream": "stdout",
       "text": [
        " 1.63500289976\n",
        "(1, 2, 3, 4, 5, 6)"
       ]
      },
      {
       "output_type": "stream",
       "stream": "stdout",
       "text": [
        " 1.7754475252\n",
        "(0, 1, 2, 3, 6, 8)"
       ]
      },
      {
       "output_type": "stream",
       "stream": "stdout",
       "text": [
        " 1.62205429995\n",
        "(0, 1, 2, 5, 6, 7)"
       ]
      },
      {
       "output_type": "stream",
       "stream": "stdout",
       "text": [
        " 1.67953261569\n",
        "(0, 1, 2, 3, 6, 7)"
       ]
      },
      {
       "output_type": "stream",
       "stream": "stdout",
       "text": [
        " 1.67280705959\n",
        "(1, 2, 3, 4, 7, 8)"
       ]
      },
      {
       "output_type": "stream",
       "stream": "stdout",
       "text": [
        " 1.60712625821\n",
        "(0, 1, 4, 5, 7, 8)"
       ]
      },
      {
       "output_type": "stream",
       "stream": "stdout",
       "text": [
        " 1.64062796679\n",
        "(0, 1, 2, 5, 7, 8)"
       ]
      },
      {
       "output_type": "stream",
       "stream": "stdout",
       "text": [
        " 1.64446698951\n",
        "(0, 2, 3, 4, 7, 8)"
       ]
      },
      {
       "output_type": "stream",
       "stream": "stdout",
       "text": [
        " 1.58582530309\n",
        "(1, 2, 3, 5, 6, 7)"
       ]
      },
      {
       "output_type": "stream",
       "stream": "stdout",
       "text": [
        " 1.65285066401\n",
        "(0, 3, 4, 5, 6, 7)"
       ]
      },
      {
       "output_type": "stream",
       "stream": "stdout",
       "text": [
        " 1.66718346317\n",
        "(0, 3, 4, 5, 6, 8)"
       ]
      },
      {
       "output_type": "stream",
       "stream": "stdout",
       "text": [
        " 1.60563909284\n",
        "(1, 4, 5, 6, 7, 8)"
       ]
      },
      {
       "output_type": "stream",
       "stream": "stdout",
       "text": [
        " 1.78939114704\n",
        "(0, 1, 3, 4, 5, 7)"
       ]
      },
      {
       "output_type": "stream",
       "stream": "stdout",
       "text": [
        " 1.66389602128\n",
        "(0, 2, 3, 4, 6, 7)"
       ]
      },
      {
       "output_type": "stream",
       "stream": "stdout",
       "text": [
        " 1.63956856786\n",
        "(0, 1, 3, 4, 5, 8)"
       ]
      },
      {
       "output_type": "stream",
       "stream": "stdout",
       "text": [
        " 1.60677130758\n",
        "(0, 1, 3, 4, 6, 7)"
       ]
      },
      {
       "output_type": "stream",
       "stream": "stdout",
       "text": [
        " 1.65929742728\n",
        "(0, 1, 3, 5, 6, 8)"
       ]
      },
      {
       "output_type": "stream",
       "stream": "stdout",
       "text": [
        " 1.60888670394\n",
        "(1, 3, 4, 5, 6, 7)"
       ]
      },
      {
       "output_type": "stream",
       "stream": "stdout",
       "text": [
        " 1.70465071074\n",
        "(0, 4, 5, 6, 7, 8)"
       ]
      },
      {
       "output_type": "stream",
       "stream": "stdout",
       "text": [
        " 1.74255023913\n",
        "(0, 3, 5, 6, 7, 8)"
       ]
      },
      {
       "output_type": "stream",
       "stream": "stdout",
       "text": [
        " 1.66360467676\n",
        "(1, 2, 3, 4, 6, 8)"
       ]
      },
      {
       "output_type": "stream",
       "stream": "stdout",
       "text": [
        " 1.60468553552\n",
        "(0, 1, 2, 3, 4, 5)"
       ]
      },
      {
       "output_type": "stream",
       "stream": "stdout",
       "text": [
        " 1.9010243359\n",
        "(1, 2, 4, 5, 6, 8)"
       ]
      },
      {
       "output_type": "stream",
       "stream": "stdout",
       "text": [
        " 1.6070550264\n",
        "(1, 3, 4, 6, 7, 8)"
       ]
      },
      {
       "output_type": "stream",
       "stream": "stdout",
       "text": [
        " 1.67231636439\n",
        "(1, 3, 4, 5, 7, 8)"
       ]
      },
      {
       "output_type": "stream",
       "stream": "stdout",
       "text": [
        " 1.64279094225\n",
        "(1, 2, 4, 5, 6, 7)"
       ]
      },
      {
       "output_type": "stream",
       "stream": "stdout",
       "text": [
        " 1.6705351872\n",
        "(0, 2, 4, 5, 6, 8)"
       ]
      },
      {
       "output_type": "stream",
       "stream": "stdout",
       "text": [
        " 1.57955867015\n",
        "(0, 2, 4, 5, 6, 7)"
       ]
      },
      {
       "output_type": "stream",
       "stream": "stdout",
       "text": [
        " 1.63816415823\n",
        "(0, 1, 2, 3, 7, 8)"
       ]
      },
      {
       "output_type": "stream",
       "stream": "stdout",
       "text": [
        " 1.66332359314\n",
        "(1, 2, 4, 6, 7, 8)"
       ]
      },
      {
       "output_type": "stream",
       "stream": "stdout",
       "text": [
        " 1.64886873769\n",
        "(0, 1, 3, 4, 5, 6)"
       ]
      },
      {
       "output_type": "stream",
       "stream": "stdout",
       "text": [
        " 1.76694046139\n",
        "(0, 1, 2, 3, 5, 7)"
       ]
      },
      {
       "output_type": "stream",
       "stream": "stdout",
       "text": [
        " 1.66162940171\n",
        "(3, 4, 5, 6, 7, 8)"
       ]
      },
      {
       "output_type": "stream",
       "stream": "stdout",
       "text": [
        " 1.99277057627\n",
        "(0, 1, 3, 4, 6, 8)"
       ]
      },
      {
       "output_type": "stream",
       "stream": "stdout",
       "text": [
        " 1.60189575701\n",
        "(1, 2, 3, 6, 7, 8)"
       ]
      },
      {
       "output_type": "stream",
       "stream": "stdout",
       "text": [
        " 1.64863695812\n",
        "(1, 2, 3, 5, 7, 8)"
       ]
      },
      {
       "output_type": "stream",
       "stream": "stdout",
       "text": [
        " 1.59155916269\n",
        "(0, 2, 3, 4, 6, 8)"
       ]
      },
      {
       "output_type": "stream",
       "stream": "stdout",
       "text": [
        " 1.5825626894\n",
        "(0, 1, 2, 3, 4, 8)"
       ]
      },
      {
       "output_type": "stream",
       "stream": "stdout",
       "text": [
        " 1.64295099846\n",
        "(2, 4, 5, 6, 7, 8)"
       ]
      },
      {
       "output_type": "stream",
       "stream": "stdout",
       "text": [
        " 1.78427200844\n",
        "(0, 1, 2, 4, 5, 6)"
       ]
      },
      {
       "output_type": "stream",
       "stream": "stdout",
       "text": [
        " 1.76512897009\n",
        "(0, 1, 2, 3, 4, 6)"
       ]
      },
      {
       "output_type": "stream",
       "stream": "stdout",
       "text": [
        " 1.80322366182\n",
        "(0, 2, 4, 5, 7, 8)"
       ]
      },
      {
       "output_type": "stream",
       "stream": "stdout",
       "text": [
        " 1.58641566821\n",
        "(0, 3, 4, 5, 7, 8)"
       ]
      },
      {
       "output_type": "stream",
       "stream": "stdout",
       "text": [
        " 1.60374412496\n",
        "(2, 3, 4, 5, 6, 8)"
       ]
      },
      {
       "output_type": "stream",
       "stream": "stdout",
       "text": [
        " 1.69297986913\n",
        "(0, 1, 2, 4, 7, 8)"
       ]
      },
      {
       "output_type": "stream",
       "stream": "stdout",
       "text": [
        " 1.64903770433\n",
        "(0, 1, 2, 3, 5, 6)"
       ]
      },
      {
       "output_type": "stream",
       "stream": "stdout",
       "text": [
        " 1.76287944863\n",
        "(1, 2, 5, 6, 7, 8)"
       ]
      },
      {
       "output_type": "stream",
       "stream": "stdout",
       "text": [
        " 1.6849117558\n",
        "(0, 1, 3, 4, 7, 8)"
       ]
      },
      {
       "output_type": "stream",
       "stream": "stdout",
       "text": [
        " 1.61227066247\n",
        "(0, 2, 5, 6, 7, 8)"
       ]
      },
      {
       "output_type": "stream",
       "stream": "stdout",
       "text": [
        " 1.64342307738\n",
        "(1, 2, 4, 5, 7, 8)"
       ]
      },
      {
       "output_type": "stream",
       "stream": "stdout",
       "text": [
        " 1.61335931141\n",
        "(0, 1, 2, 4, 6, 7)"
       ]
      },
      {
       "output_type": "stream",
       "stream": "stdout",
       "text": [
        " 1.66641611444\n",
        "(1, 3, 4, 5, 6, 8)"
       ]
      },
      {
       "output_type": "stream",
       "stream": "stdout",
       "text": [
        " 1.64178543939\n",
        "(0, 2, 3, 6, 7, 8)"
       ]
      },
      {
       "output_type": "stream",
       "stream": "stdout",
       "text": [
        " 1.61564922659\n"
       ]
      }
     ],
     "prompt_number": 105
    },
    {
     "cell_type": "code",
     "collapsed": false,
     "input": [
      "%matplotlib inline\n",
      "\n",
      "x_labels = []\n",
      "values = []\n",
      "ymean = []\n",
      "\n",
      "with open('ltr9_cap6_20000wds.pickle') as f:\n",
      "    x_labels, values, ymean = pickle.load(f)\n",
      "\n",
      "#calculate standard, deviation, standard error, and variance\n",
      "var_sum = 0\n",
      "std_dev = []\n",
      "std_err = []\n",
      "x = []\n",
      "for ind in range(len(values)):\n",
      "    for i in range(len(values[ind])):\n",
      "        var_sum += (values[ind][i] - ymean[ind])**2\n",
      "    variance = var_sum/(len(values[ind]) - 1)\n",
      "    std_dev.append(math.sqrt(variance))\n",
      "    std_err.append(std_dev[ind]/math.sqrt(len(values[ind])))\n",
      "    x.append(ind)\n",
      "    \n",
      "#x = np.arrange(len(values))\n",
      "\n",
      "#create bar graph\n",
      "width = .4\n",
      "tick_sep = [elm + width for elm in x]\n",
      "fig, ax = plt.subplots(figsize = (20,10))\n",
      "rects1 = ax.bar(tuple(tick_sep), tuple(ymean), width, color='r', yerr=std_err)\n",
      "\n",
      "#plus beauty\n",
      "ax.set_ylabel('Information Content')\n",
      "ax.set_title('Information Content of Words, by Letter Positions Remembered', fontsize = 14)\n",
      "ax.set_xticks(tick_sep)\n",
      "ax.set_xticklabels([str(el) for el in x_labels])\n",
      "ax.set_xlabel('Letter Indices Remembered')"
     ],
     "language": "python",
     "metadata": {},
     "outputs": [
      {
       "metadata": {},
       "output_type": "pyout",
       "prompt_number": 110,
       "text": [
        "<matplotlib.text.Text at 0xe9e5f4c>"
       ]
      },
      {
       "metadata": {},
       "output_type": "display_data",
       "png": "[encoded data removed]",
       "text": [
        "<matplotlib.figure.Figure at 0xc6249ac>"
       ]
      }
     ],
     "prompt_number": 110
    },
    {
     "cell_type": "code",
     "collapsed": false,
     "input": [
      "run opt_WM_strategy"
     ],
     "language": "python",
     "metadata": {},
     "outputs": [
      {
       "output_type": "stream",
       "stream": "stdout",
       "text": [
        "20000 100000\n",
        "[(0, 3, 4), (1, 2, 4), (0, 1, 2), (0, 1, 3), (0, 2, 3), (0, 1, 4), (1, 3, 4), (2, 3, 4), (1, 2, 3), (0, 2, 4)]\n",
        "[0, 3, 4]\n",
        "[1, 2, 4]"
       ]
      },
      {
       "output_type": "stream",
       "stream": "stdout",
       "text": [
        "\n",
        "[0, 1, 2]"
       ]
      },
      {
       "output_type": "stream",
       "stream": "stdout",
       "text": [
        "\n",
        "[0, 1, 3]"
       ]
      },
      {
       "output_type": "stream",
       "stream": "stdout",
       "text": [
        "\n",
        "[0, 2, 3]"
       ]
      },
      {
       "output_type": "stream",
       "stream": "stdout",
       "text": [
        "\n",
        "[0, 1, 4]"
       ]
      },
      {
       "output_type": "stream",
       "stream": "stdout",
       "text": [
        "\n",
        "[1, 3, 4]\n",
        "[2, 3, 4]"
       ]
      },
      {
       "output_type": "stream",
       "stream": "stdout",
       "text": [
        "\n",
        "[1, 2, 3]"
       ]
      },
      {
       "output_type": "stream",
       "stream": "stdout",
       "text": [
        "\n",
        "[0, 2, 4]"
       ]
      },
      {
       "output_type": "stream",
       "stream": "stdout",
       "text": [
        "\n",
        "(0, 3, 4)"
       ]
      },
      {
       "output_type": "stream",
       "stream": "stdout",
       "text": [
        " 3.18781862667\n",
        "(1, 2, 4)"
       ]
      },
      {
       "output_type": "stream",
       "stream": "stdout",
       "text": [
        " 3.50398151218\n",
        "(0, 1, 2)"
       ]
      },
      {
       "output_type": "stream",
       "stream": "stdout",
       "text": [
        " 3.49366523172\n",
        "(0, 1, 3)"
       ]
      },
      {
       "output_type": "stream",
       "stream": "stdout",
       "text": [
        " 3.05482885535\n",
        "(0, 2, 3)"
       ]
      },
      {
       "output_type": "stream",
       "stream": "stdout",
       "text": [
        " 2.83238417287\n",
        "(0, 1, 4)"
       ]
      },
      {
       "output_type": "stream",
       "stream": "stdout",
       "text": [
        " 3.34141130485\n",
        "(1, 3, 4)"
       ]
      },
      {
       "output_type": "stream",
       "stream": "stdout",
       "text": [
        " 3.66714727841\n",
        "(2, 3, 4)"
       ]
      },
      {
       "output_type": "stream",
       "stream": "stdout",
       "text": [
        " 3.78102996901\n",
        "(1, 2, 3)"
       ]
      },
      {
       "output_type": "stream",
       "stream": "stdout",
       "text": [
        " 3.44071045774\n",
        "(0, 2, 4)"
       ]
      },
      {
       "output_type": "stream",
       "stream": "stdout",
       "text": [
        " 2.9251262471\n"
       ]
      }
     ],
     "prompt_number": 111
    },
    {
     "cell_type": "code",
     "collapsed": false,
     "input": [
      "%matplotlib inline\n",
      "\n",
      "x_labels = []\n",
      "values = []\n",
      "ymean = []\n",
      "\n",
      "with open('ltr5_cap3_20000wds.pickle') as f:\n",
      "    x_labels, values, ymean = pickle.load(f)\n",
      "\n",
      "#calculate standard, deviation, standard error, and variance\n",
      "var_sum = 0\n",
      "std_dev = []\n",
      "std_err = []\n",
      "x = []\n",
      "for ind in range(len(values)):\n",
      "    for i in range(len(values[ind])):\n",
      "        var_sum += (values[ind][i] - ymean[ind])**2\n",
      "    variance = var_sum/(len(values[ind]) - 1)\n",
      "    std_dev.append(math.sqrt(variance))\n",
      "    std_err.append(std_dev[ind]/math.sqrt(len(values[ind])))\n",
      "    x.append(ind)\n",
      "    \n",
      "#x = np.arrange(len(values))\n",
      "\n",
      "#create bar graph\n",
      "width = .4\n",
      "tick_sep = [elm + width for elm in x]\n",
      "fig, ax = plt.subplots()\n",
      "rects1 = ax.bar(tuple(tick_sep), tuple(ymean), width, color='r', yerr=std_err)\n",
      "\n",
      "#plus beauty\n",
      "ax.set_ylabel('Information Content')\n",
      "ax.set_title('Information Content of Words, by Letter Positions Remembered', fontsize = 14)\n",
      "ax.set_xticks(tick_sep)\n",
      "ax.set_xticklabels([str(el) for el in x_labels])\n",
      "ax.set_xlabel('Letter Indices Remembered')\n",
      "\n",
      "#ax.legend( (rects1[0], rects2[0]), ('Men', 'Women') )\n",
      "\n",
      "def autolabel(rects,ymean):\n",
      "    # attach some text labels\n",
      "    for idx in range(len(rects)):\n",
      "        height = rects[idx].get_height()\n",
      "        ax.text(rects[idx].get_x()+rects[idx].get_width()/2., 1.05*ymean[idx], '%10.3f'%ymean[idx],\n",
      "                ha='center', va='bottom')\n",
      "autolabel(rects1,ymean)"
     ],
     "language": "python",
     "metadata": {},
     "outputs": [
      {
       "metadata": {},
       "output_type": "display_data",
       "png": "[encoded data removed]",
       "text": [
        "<matplotlib.figure.Figure at 0xc16f4ec>"
       ]
      }
     ],
     "prompt_number": 113
    },
    {
     "cell_type": "code",
     "collapsed": false,
     "input": [
      "run opt_WM_strategy"
     ],
     "language": "python",
     "metadata": {},
     "outputs": [
      {
       "output_type": "stream",
       "stream": "stdout",
       "text": [
        "20000 120000\n",
        "[(1, 2, 5), (1, 2, 3), (0, 3, 4), (0, 2, 5), (3, 4, 5), (2, 3, 5), (0, 1, 2), (0, 3, 5), (1, 4, 5), (0, 1, 5), (1, 3, 5), (0, 2, 3), (0, 1, 4), (1, 3, 4), (2, 4, 5), (0, 4, 5), (2, 3, 4), (0, 1, 3), (1, 2, 4), (0, 2, 4)]\n",
        "[1, 2, 5]\n",
        "[1, 2, 3]"
       ]
      },
      {
       "output_type": "stream",
       "stream": "stdout",
       "text": [
        "\n",
        "[0, 3, 4]\n",
        "[0, 2, 5]"
       ]
      },
      {
       "output_type": "stream",
       "stream": "stdout",
       "text": [
        "\n",
        "[3, 4, 5]"
       ]
      },
      {
       "output_type": "stream",
       "stream": "stdout",
       "text": [
        "\n",
        "[2, 3, 5]"
       ]
      },
      {
       "output_type": "stream",
       "stream": "stdout",
       "text": [
        "\n",
        "[0, 1, 2]"
       ]
      },
      {
       "output_type": "stream",
       "stream": "stdout",
       "text": [
        "\n",
        "[0, 3, 5]"
       ]
      },
      {
       "output_type": "stream",
       "stream": "stdout",
       "text": [
        "\n",
        "[1, 4, 5]"
       ]
      },
      {
       "output_type": "stream",
       "stream": "stdout",
       "text": [
        "\n",
        "[0, 1, 5]"
       ]
      },
      {
       "output_type": "stream",
       "stream": "stdout",
       "text": [
        "\n",
        "[1, 3, 5]"
       ]
      },
      {
       "output_type": "stream",
       "stream": "stdout",
       "text": [
        "\n",
        "[0, 2, 3]"
       ]
      },
      {
       "output_type": "stream",
       "stream": "stdout",
       "text": [
        "\n",
        "[0, 1, 4]"
       ]
      },
      {
       "output_type": "stream",
       "stream": "stdout",
       "text": [
        "\n",
        "[1, 3, 4]"
       ]
      },
      {
       "output_type": "stream",
       "stream": "stdout",
       "text": [
        "\n",
        "[2, 4, 5]"
       ]
      },
      {
       "output_type": "stream",
       "stream": "stdout",
       "text": [
        "\n",
        "[0, 4, 5]"
       ]
      },
      {
       "output_type": "stream",
       "stream": "stdout",
       "text": [
        "\n",
        "[2, 3, 4]"
       ]
      },
      {
       "output_type": "stream",
       "stream": "stdout",
       "text": [
        "\n",
        "[0, 1, 3]"
       ]
      },
      {
       "output_type": "stream",
       "stream": "stdout",
       "text": [
        "\n",
        "[1, 2, 4]"
       ]
      },
      {
       "output_type": "stream",
       "stream": "stdout",
       "text": [
        "\n",
        "[0, 2, 4]"
       ]
      },
      {
       "output_type": "stream",
       "stream": "stdout",
       "text": [
        "\n",
        "(1, 2, 5)"
       ]
      },
      {
       "output_type": "stream",
       "stream": "stdout",
       "text": [
        " 3.44027856208\n",
        "(1, 2, 3)"
       ]
      },
      {
       "output_type": "stream",
       "stream": "stdout",
       "text": [
        " 3.42364464257\n",
        "(0, 3, 4)"
       ]
      },
      {
       "output_type": "stream",
       "stream": "stdout",
       "text": [
        " 3.05413078113\n",
        "(0, 2, 5)"
       ]
      },
      {
       "output_type": "stream",
       "stream": "stdout",
       "text": [
        " 2.812130862\n",
        "(3, 4, 5)"
       ]
      },
      {
       "output_type": "stream",
       "stream": "stdout",
       "text": [
        " 4.42800665371\n",
        "(2, 3, 5)"
       ]
      },
      {
       "output_type": "stream",
       "stream": "stdout",
       "text": [
        " 3.38255806016\n",
        "(0, 1, 2)"
       ]
      },
      {
       "output_type": "stream",
       "stream": "stdout",
       "text": [
        " 3.53733383304\n",
        "(0, 3, 5)"
       ]
      },
      {
       "output_type": "stream",
       "stream": "stdout",
       "text": [
        " 2.9000175038\n",
        "(1, 4, 5)"
       ]
      },
      {
       "output_type": "stream",
       "stream": "stdout",
       "text": [
        " 4.14334363103\n",
        "(0, 1, 5)"
       ]
      },
      {
       "output_type": "stream",
       "stream": "stdout",
       "text": [
        " 3.45373180681\n",
        "(1, 3, 5)"
       ]
      },
      {
       "output_type": "stream",
       "stream": "stdout",
       "text": [
        " 3.34649351085\n",
        "(0, 2, 3)"
       ]
      },
      {
       "output_type": "stream",
       "stream": "stdout",
       "text": [
        " 2.86916032436\n",
        "(0, 1, 4)"
       ]
      },
      {
       "output_type": "stream",
       "stream": "stdout",
       "text": [
        " 3.44182782842\n",
        "(1, 3, 4)"
       ]
      },
      {
       "output_type": "stream",
       "stream": "stdout",
       "text": [
        " 3.51229398044\n",
        "(2, 4, 5)"
       ]
      },
      {
       "output_type": "stream",
       "stream": "stdout",
       "text": [
        " 3.8996745404\n",
        "(0, 4, 5)"
       ]
      },
      {
       "output_type": "stream",
       "stream": "stdout",
       "text": [
        " 3.6203797053\n",
        "(2, 3, 4)"
       ]
      },
      {
       "output_type": "stream",
       "stream": "stdout",
       "text": [
        " 3.56627840417\n",
        "(0, 1, 3)"
       ]
      },
      {
       "output_type": "stream",
       "stream": "stdout",
       "text": [
        " 3.16882955135\n",
        "(1, 2, 4)"
       ]
      },
      {
       "output_type": "stream",
       "stream": "stdout",
       "text": [
        " 3.4747642726\n",
        "(0, 2, 4)"
       ]
      },
      {
       "output_type": "stream",
       "stream": "stdout",
       "text": [
        " 2.83558311074\n"
       ]
      }
     ],
     "prompt_number": 114
    },
    {
     "cell_type": "code",
     "collapsed": false,
     "input": [
      "%matplotlib inline\n",
      "\n",
      "x_labels = []\n",
      "values = []\n",
      "ymean = []\n",
      "\n",
      "with open('ltr6_cap3_20000wds.pickle') as f:\n",
      "    x_labels, values, ymean = pickle.load(f)\n",
      "\n",
      "#calculate standard, deviation, standard error, and variance\n",
      "var_sum = 0\n",
      "std_dev = []\n",
      "std_err = []\n",
      "x = []\n",
      "for ind in range(len(values)):\n",
      "    for i in range(len(values[ind])):\n",
      "        var_sum += (values[ind][i] - ymean[ind])**2\n",
      "    variance = var_sum/(len(values[ind]) - 1)\n",
      "    std_dev.append(math.sqrt(variance))\n",
      "    std_err.append(std_dev[ind]/math.sqrt(len(values[ind])))\n",
      "    x.append(ind)\n",
      "    \n",
      "#x = np.arrange(len(values))\n",
      "\n",
      "#create bar graph\n",
      "width = .4\n",
      "tick_sep = [elm + width for elm in x]\n",
      "fig, ax = plt.subplots()\n",
      "rects1 = ax.bar(tuple(tick_sep), tuple(ymean), width, color='r', yerr=std_err)\n",
      "\n",
      "#plus beauty\n",
      "ax.set_ylabel('Information Content')\n",
      "ax.set_title('Information Content of Words, by Letter Positions Remembered', fontsize = 14)\n",
      "ax.set_xticks(tick_sep)\n",
      "ax.set_xticklabels([str(el) for el in x_labels])\n",
      "ax.set_xlabel('Letter Indices Remembered')\n",
      "\n",
      "def autolabel(rects,ymean):\n",
      "    # attach some text labels\n",
      "    for idx in range(len(rects)):\n",
      "        height = rects[idx].get_height()\n",
      "        ax.text(rects[idx].get_x()+rects[idx].get_width()/2., 1.05*ymean[idx], '%10.3f'%ymean[idx],\n",
      "                ha='center', va='bottom')\n",
      "autolabel(rects1,ymean)"
     ],
     "language": "python",
     "metadata": {},
     "outputs": [
      {
       "metadata": {},
       "output_type": "display_data",
       "png": "[encoded data removed]",
       "text": [
        "<matplotlib.figure.Figure at 0xf80accc>"
       ]
      }
     ],
     "prompt_number": 115
    },
    {
     "cell_type": "code",
     "collapsed": false,
     "input": [],
     "language": "python",
     "metadata": {},
     "outputs": []
    }
   ],
   "metadata": {}
  }
 ]
}